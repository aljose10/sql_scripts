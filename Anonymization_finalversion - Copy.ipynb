{
 "cells": [
  {
   "cell_type": "code",
   "execution_count": 0,
   "metadata": {
    "application/vnd.databricks.v1+cell": {
     "cellMetadata": {
      "byteLimit": 2048000,
      "rowLimit": 10000
     },
     "inputWidgets": {},
     "nuid": "48bebfb6-eadb-459f-874c-7031936267bc",
     "showTitle": false,
     "title": ""
    }
   },
   "outputs": [],
   "source": [
    "from pyspark.sql import SparkSession\n",
    "from pyspark.sql.types import StructType, StructField, StringType,IntegerType,LongType,DateType\n",
    "from pyspark.sql.functions import length, col, expr, split, regexp_extract,substring_index,to_date\n",
    "from datetime import datetime\n",
    "from pyspark.sql.functions import current_timestamp\n",
    "# Create a SparkSession\n",
    "spark = SparkSession.builder \\\n",
    "    .appName(\"Anonymization using pyspark\") \\\n",
    "    .getOrCreate()"
   ]
  },
  {
   "cell_type": "code",
   "execution_count": 0,
   "metadata": {
    "application/vnd.databricks.v1+cell": {
     "cellMetadata": {
      "byteLimit": 2048000,
      "rowLimit": 10000
     },
     "inputWidgets": {},
     "nuid": "2e20a395-a43b-4b03-a730-0905eb0c097d",
     "showTitle": false,
     "title": ""
    }
   },
   "outputs": [
    {
     "name": "stdout",
     "output_type": "stream",
     "text": [
      "+----------+---------+------------------------------+-----------+-----------+--------------+\n",
      "|SchemaName|TableName|ColumnNames                   |ColumnDates|ColumnEmail|ColumnPhone   |\n",
      "+----------+---------+------------------------------+-----------+-----------+--------------+\n",
      "|s1        |table1   |PERS_FIRST_NAME,PERS_LAST_NAME|DOB        |EMAIL      |HOME_PHONE_NBR|\n",
      "|s1        |table2   |User Name                     |null       |Email      |null          |\n",
      "+----------+---------+------------------------------+-----------+-----------+--------------+\n",
      "\n"
     ]
    }
   ],
   "source": [
    "get_data = [('s1','table1','PERS_FIRST_NAME,PERS_LAST_NAME','DOB','EMAIL','HOME_PHONE_NBR'),\n",
    "        ('s1','table2','User Name',None,'Email',None) ]\n",
    "# Define schema\n",
    "schema = StructType([\n",
    "    StructField(\"SchemaName\", StringType(), True),\n",
    "    StructField(\"TableName\", StringType(), True),\n",
    "    StructField(\"ColumnNames\", StringType(), True),\n",
    "    StructField(\"ColumnDates\", StringType(), True),\n",
    "    StructField(\"ColumnEmail\", StringType(), True),\n",
    "    StructField(\"ColumnPhone\", StringType(), True)\n",
    "])\n",
    "\n",
    "get_lookupdf = spark.createDataFrame(get_data, schema=schema)\n",
    "get_lookupdf.show(truncate=False)"
   ]
  },
  {
   "cell_type": "code",
   "execution_count": 0,
   "metadata": {
    "application/vnd.databricks.v1+cell": {
     "cellMetadata": {
      "byteLimit": 2048000,
      "rowLimit": 10000
     },
     "inputWidgets": {},
     "nuid": "0b5f2de4-0c6c-48d3-84c0-ba6852781d3a",
     "showTitle": false,
     "title": ""
    }
   },
   "outputs": [
    {
     "name": "stdout",
     "output_type": "stream",
     "text": [
      "+---------------+--------------+----------+----------------+--------------+\n",
      "|PERS_FIRST_NAME|PERS_LAST_NAME|DOB       |EMAIL           |HOME_PHONE_NBR|\n",
      "+---------------+--------------+----------+----------------+--------------+\n",
      "|Rich           |Bob           |1999-09-15|rbob@gmail.com  |1234567894    |\n",
      "|June           |Dan           |1959-09-05|jdan@gmail.com  |9987654321    |\n",
      "|Charlie        |Dawn          |1969-09-26|cdawn@gmail.com |6789054321    |\n",
      "|Bob            |Alice         |1949-05-25|balice@gmail.com|5432167890    |\n",
      "+---------------+--------------+----------+----------------+--------------+\n",
      "\n"
     ]
    }
   ],
   "source": [
    "get_data = [(\"Rich\", \"Bob\",\"1999-09-15\",\"rbob@gmail.com\", \"1234567894\"),\n",
    "        (\"June\", \"Dan\",\"1959-09-05\", \"jdan@gmail.com\", \"9987654321\"),\n",
    "        (\"Charlie\",\"Dawn\",\"1969-09-26\",\"cdawn@gmail.com\", \"6789054321\"),\n",
    "        (\"Bob\",\"Alice\",\"1949-05-25\",\"balice@gmail.com\",\"5432167890\")\n",
    "        ]\n",
    "schema = StructType([\n",
    "    StructField(\"PERS_FIRST_NAME\", StringType(), True),\n",
    "    StructField(\"PERS_LAST_NAME\", StringType(), True),\n",
    "    StructField(\"DOB\", DateType(), True),\n",
    "    StructField(\"EMAIL\", StringType(), True),\n",
    "    StructField(\"HOME_PHONE_NBR\", StringType(), True)\n",
    "])\n",
    "\n",
    "schema = [\"PERS_FIRST_NAME\", \"PERS_LAST_NAME\", \"DOB\",\"EMAIL\",\"HOME_PHONE_NBR\"]\n",
    "get_df = spark.createDataFrame(get_data, schema=schema)\n",
    "\n",
    "get_df.show(truncate=False)"
   ]
  },
  {
   "cell_type": "code",
   "execution_count": 0,
   "metadata": {
    "application/vnd.databricks.v1+cell": {
     "cellMetadata": {
      "byteLimit": 2048000,
      "rowLimit": 10000
     },
     "inputWidgets": {},
     "nuid": "dee43aae-623e-4254-9b7a-ceefb322f71f",
     "showTitle": false,
     "title": ""
    }
   },
   "outputs": [],
   "source": [
    "def anonymize_raw_file(get_df,get_table_name,get_lookupdf):\n",
    "    get_lookupdf_data = get_lookupdf.filter(get_lookupdf[\"TableName\"] == get_table_name).first()\n",
    "\n",
    "    get_col_names = get_lookupdf_data[\"ColumnNames\"].split(',') if get_lookupdf_data[\"ColumnNames\"] else None\n",
    "    get_col_emails = get_lookupdf_data[\"ColumnEmail\"].split(',') if get_lookupdf_data[\"ColumnEmail\"] else None\n",
    "    get_col_dates = get_lookupdf_data[\"ColumnDates\"].split(',') if get_lookupdf_data[\"ColumnDates\"] else None\n",
    "    get_col_phones = get_lookupdf_data[\"ColumnPhone\"].split(',') if get_lookupdf_data[\"ColumnPhone\"] else None\n",
    "   \n",
    "    if get_col_names is not None:\n",
    "        for get_name in get_col_names:\n",
    "            get_df = get_df.withColumn(\"length\", length(col(get_name))) \\\n",
    "                   .withColumn(\"first_char\", col(get_name).substr(1, 1)) \\\n",
    "                   .withColumn(get_name, expr(\"concat(first_char, repeat('x', length - 1))\")) \\\n",
    "                   .drop(\"first_char\") \\\n",
    "                   .drop(\"length\")\n",
    "    else:\n",
    "        print(\"Inside column names else condition\")\n",
    "        \n",
    "    if get_col_phones is not None:\n",
    "        for get_phone in get_col_phones:\n",
    "            if isinstance(get_df.schema[get_phone].dataType, (LongType, IntegerType)):\n",
    "                get_df = get_df.withColumn(\"Phone_NBR_str\", col(get_phone).cast(\"string\")) \\\n",
    "                       .withColumn(get_phone, expr(\"substring(Phone_NBR_str, 1, 1) || repeat('0', length(Phone_NBR_str) - 1)\")) \\\n",
    "                       .withColumn(get_phone, col(get_phone).cast(\"bigint\")) \\\n",
    "                       .drop(\"Phone_NBR_str\")\n",
    "            else:\n",
    "                get_df = get_df.withColumn(\"Phone_NBR_str\", col(get_phone).cast(\"string\")) \\\n",
    "                       .withColumn(get_phone, expr(\"substring(Phone_NBR_str, 1, 1) || repeat('0', length(Phone_NBR_str) - 1)\")) \\\n",
    "                       .drop(\"Phone_NBR_str\")\n",
    "            \n",
    "    else:\n",
    "        print(\"Inside phone else condition\")\n",
    "\n",
    "    if get_col_emails is not None:\n",
    "        for get_email in get_col_emails:\n",
    "            # Extracting the substring before '@'\n",
    "            get_df = get_df.withColumn(\"extractedname\", substring_index(col(get_email), \"@\", 1)) \\\n",
    "                            .withColumn(\"extractedname\", expr(\"substring(extractedname, 1, 1) || repeat('x', length(extractedname) - 1)\")) \\\n",
    "                            .withColumn(get_email, expr(\"concat(extractedname, '@xxxx.com')\")) \\\n",
    "                            .drop(\"extractedname\")\n",
    "    else:\n",
    "        print(\"Inside email else condition \")\n",
    "    \n",
    "    if get_col_dates is not None:\n",
    "        for get_date in get_col_dates: \n",
    "            if get_df.schema[get_date].dataType == DateType() :\n",
    "                get_df = get_df.withColumn(get_date, expr(\"substring({0}, 1, 5) || '01-01'\".format(get_date))) \\\n",
    "                       .withColumn(get_date, to_date(col(get_date), \"yyyy-MM-dd\"))\n",
    "            else:\n",
    "                get_df = get_df.withColumn(get_date, expr(\"substring({0}, 1, 5) || '01-01'\".format(get_date)))\n",
    "    else:\n",
    "        print(\"Inside date else condition\")   \n",
    "    return get_df\n",
    "\n"
   ]
  },
  {
   "cell_type": "code",
   "execution_count": 0,
   "metadata": {
    "application/vnd.databricks.v1+cell": {
     "cellMetadata": {},
     "inputWidgets": {},
     "nuid": "106466bf-3801-43a2-9601-46285f74cde9",
     "showTitle": false,
     "title": ""
    }
   },
   "outputs": [],
   "source": []
  }
 ],
 "metadata": {
  "application/vnd.databricks.v1+notebook": {
   "dashboards": [],
   "language": "python",
   "notebookMetadata": {
    "pythonIndentUnit": 4
   },
   "notebookName": "Anonymization_finalversion",
   "widgets": {}
  },
  "language_info": {
   "name": "python"
  }
 },
 "nbformat": 4,
 "nbformat_minor": 0
}
